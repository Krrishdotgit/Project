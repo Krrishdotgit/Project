{
 "cells": [
  {
   "cell_type": "code",
   "execution_count": 9,
   "id": "68eca196",
   "metadata": {},
   "outputs": [],
   "source": [
    "#first install opencv library from your cmd as writting \"pip install opencv-python\"\n",
    "#then import in compilar as following\n",
    "import cv2"
   ]
  },
  {
   "cell_type": "code",
   "execution_count": 3,
   "id": "744c51e7",
   "metadata": {},
   "outputs": [],
   "source": [
    "# video_cap=cv2.VideoCapture(0) #Variable containing Videocapture function of cv2 module and we pass 0 because it will run only in runtime.\n",
    "# while True: #for infinite tool\n",
    "#     ret , video_data=video_cap.read()#Capture video \n",
    "#     cv2.imshow(\"video_live\",video_data)#to show image\n",
    "#     if cv2.waitKey(10) == ord(\"a\"):#waitkey is to stop program after particular time period, if we press \"a\" then it will stop,ord function used to return the unicode code of character \n",
    "#         break\n",
    "# video_cap.release()"
   ]
  },
  {
   "cell_type": "code",
   "execution_count": null,
   "id": "6a72aba3",
   "metadata": {},
   "outputs": [],
   "source": [
    "face_cap=cv2.CascadeClassifier(cv2.data.haarcascades + 'haarcascade_frontalface_default.xml') #capture eyes nose etc from cv2 and copy file location /file name and convert \\ to / \n",
    "video_cap=cv2.VideoCapture(0) #Variable containing Videocapture function of cv2 module and we pass 0 because it will run only in runtime.\n",
    "while True: #for infinite tool\n",
    "    ret , video_data=video_cap.read()#Capture video \n",
    "    col = cv2.cvtColor(video_data,cv2.COLOR_BGR2GRAY)#convert image color to black and white\n",
    "    faces = face_cap.detectMultiScale(\n",
    "        col,\n",
    "        scaleFactor=1.1,\n",
    "        minNeighbors=5,\n",
    "        minSize=(30,30),\n",
    "        flags=cv2.CASCADE_SCALE_IMAGE    #colorise\n",
    "    )\n",
    "    for(x,y,w,h) in faces:\n",
    "        cv2.rectangle(video_data,(x,y),(x+w,y+h),(0,255,0),2)# to make box\n",
    "    cv2.imshow(\"video_live\",video_data)#to show image\n",
    "    if cv2.waitKey(10) == ord(\"a\"):#waitkey is to stop program after particular time period, if we press \"a\" then it will stop,ord function used to return the unicode code of character \n",
    "        break\n",
    "video_cap.release()"
   ]
  },
  {
   "cell_type": "code",
   "execution_count": null,
   "id": "53ce21d3",
   "metadata": {},
   "outputs": [],
   "source": []
  }
 ],
 "metadata": {
  "kernelspec": {
   "display_name": "Python 3",
   "language": "python",
   "name": "python3"
  },
  "language_info": {
   "codemirror_mode": {
    "name": "ipython",
    "version": 3
   },
   "file_extension": ".py",
   "mimetype": "text/x-python",
   "name": "python",
   "nbconvert_exporter": "python",
   "pygments_lexer": "ipython3",
   "version": "3.12.6"
  }
 },
 "nbformat": 4,
 "nbformat_minor": 5
}
